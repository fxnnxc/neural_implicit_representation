{
 "cells": [
  {
   "cell_type": "code",
   "execution_count": 71,
   "metadata": {},
   "outputs": [],
   "source": [
    "import pandas as pd \n",
    "import matplotlib.pyplot as plt\n",
    "import numpy as np \n",
    "import os \n",
    "import pandas as pd \n",
    "\n",
    "result = pd.DataFrame(columns=['name', \"psnr\", 'ssim', 'digit', 'model', \"model_index\"])\n",
    "\n",
    "for i in range(10):\n",
    "    base = f\"MNIST_{i}\"\n",
    "    name_orders = []\n",
    "    path1 = base + \"_siren_pixel_checkpoint\"\n",
    "    path2 = base + \"_eoren_pixel_checkpoint\"\n",
    "    path3 = base + \"_siren_grad_checkpoint\"\n",
    "    for image_full_name in sorted(os.listdir(path1)):\n",
    "        image_name = image_full_name.split(\"_\")[0]\n",
    "        name_orders.append(image_name)\n",
    "        image_df = pd.read_csv(os.path.join(path1, image_full_name)+\"/result.csv\")\n",
    "        # PSNR[-1].append(image_df.iloc[-1,3])\n",
    "        # SSIM[-1].append(image_df.iloc[-1,4])\n",
    "        result = result.append({'name':image_name, 'digit':i, 'psnr':image_df.iloc[-1,3], \n",
    "                                'ssim':image_df.iloc[-1, 4], \n",
    "                                'model':'SIREN+pixel',\n",
    "                                \"model_index\":2}, ignore_index=True)\n",
    "    for j, n, path in zip([3,1],['EoREN', 'SIREN+grad'],[path2, path3]):\n",
    "        names = [] \n",
    "        for name in name_orders:\n",
    "            for image_full_name in os.listdir(path):\n",
    "                if name in image_full_name:\n",
    "                    names.append(image_full_name)\n",
    "                    break\n",
    "        for image_full_name in names:\n",
    "            image_name = image_full_name.split(\"_\")[0]\n",
    "            image_df = pd.read_csv(os.path.join(path, image_full_name)+\"/result.csv\")\n",
    "            # PSNR[-1].append(image_df.iloc[-1,3])\n",
    "            # SSIM[-1].append(image_df.iloc[-1,4])\n",
    "            result = result.append({'name':image_name, 'digit':i, 'psnr':image_df.iloc[-1,3], \n",
    "                                    'ssim':image_df.iloc[-1, 4], \n",
    "                                    \"model\":n,\n",
    "                                    \"model_index\":j}, ignore_index=True)\n"
   ]
  },
  {
   "cell_type": "code",
   "execution_count": 72,
   "metadata": {},
   "outputs": [],
   "source": [
    "import seaborn as sns \n",
    "import matplotlib.pyplot as plt "
   ]
  },
  {
   "cell_type": "code",
   "execution_count": 73,
   "metadata": {},
   "outputs": [],
   "source": [
    "result['digit'] = result['digit'].astype(int)\n",
    "result.head()\n",
    "result = result.sort_values(by=\"model_index\")"
   ]
  },
  {
   "cell_type": "code",
   "execution_count": 74,
   "metadata": {},
   "outputs": [
    {
     "data": {
      "image/png": "[encoded data removed]",
      "text/plain": [
       "<Figure size 504x504 with 2 Axes>"
      ]
     },
     "metadata": {
      "needs_background": "light"
     },
     "output_type": "display_data"
    }
   ],
   "source": [
    "fig, ax = plt.subplots(2,1, figsize=(7,7))\n",
    "sns.set_palette(\"Paired\")\n",
    "sns.barplot(x='digit', y='psnr', data=result, hue='model', ax=ax[0])\n",
    "sns.barplot(x='digit', y='ssim', data=result, hue='model', ax=ax[1])\n",
    "ax[1].legend([],[], frameon=False)\n",
    "ax[0].set_ylabel(\"PSNR\", fontsize=15)\n",
    "ax[0].set_xlabel(\"\", fontsize=15)\n",
    "ax[1].set_xlabel(\"digit\", fontsize=15)\n",
    "ax[1].set_ylabel(\"SSIM\", fontsize=15)\n",
    "ax[0].legend(loc=\"lower right\")\n",
    "plt.savefig(\"mnist_performance.pdf\")"
   ]
  },
  {
   "cell_type": "code",
   "execution_count": 75,
   "metadata": {},
   "outputs": [
    {
     "data": {
      "text/html": [
       "<div>\n",
       "<style scoped>\n",
       "    .dataframe tbody tr th:only-of-type {\n",
       "        vertical-align: middle;\n",
       "    }\n",
       "\n",
       "    .dataframe tbody tr th {\n",
       "        vertical-align: top;\n",
       "    }\n",
       "\n",
       "    .dataframe thead th {\n",
       "        text-align: right;\n",
       "    }\n",
       "</style>\n",
       "<table border=\"1\" class=\"dataframe\">\n",
       "  <thead>\n",
       "    <tr style=\"text-align: right;\">\n",
       "      <th></th>\n",
       "      <th>psnr</th>\n",
       "      <th>ssim</th>\n",
       "      <th>digit</th>\n",
       "    </tr>\n",
       "    <tr>\n",
       "      <th>model</th>\n",
       "      <th></th>\n",
       "      <th></th>\n",
       "      <th></th>\n",
       "    </tr>\n",
       "  </thead>\n",
       "  <tbody>\n",
       "    <tr>\n",
       "      <th>EoREN</th>\n",
       "      <td>93.968331</td>\n",
       "      <td>0.970479</td>\n",
       "      <td>4.5</td>\n",
       "    </tr>\n",
       "    <tr>\n",
       "      <th>SIREN+grad</th>\n",
       "      <td>54.545583</td>\n",
       "      <td>0.741004</td>\n",
       "      <td>4.5</td>\n",
       "    </tr>\n",
       "    <tr>\n",
       "      <th>SIREN+pixel</th>\n",
       "      <td>83.697647</td>\n",
       "      <td>0.915630</td>\n",
       "      <td>4.5</td>\n",
       "    </tr>\n",
       "  </tbody>\n",
       "</table>\n",
       "</div>"
      ],
      "text/plain": [
       "                  psnr      ssim  digit\n",
       "model                                  \n",
       "EoREN        93.968331  0.970479    4.5\n",
       "SIREN+grad   54.545583  0.741004    4.5\n",
       "SIREN+pixel  83.697647  0.915630    4.5"
      ]
     },
     "execution_count": 75,
     "metadata": {},
     "output_type": "execute_result"
    }
   ],
   "source": [
    "result.groupby(['model']).mean()"
   ]
  },
  {
   "cell_type": "code",
   "execution_count": null,
   "metadata": {},
   "outputs": [],
   "source": []
  }
 ],
 "metadata": {
  "interpreter": {
   "hash": "ffbb8a031d33123fcc364a3d5979efaa74de66c6ea009d6049a5611c4728e52d"
  },
  "kernelspec": {
   "display_name": "Python 3.6.8 64-bit ('torch': conda)",
   "language": "python",
   "name": "python3"
  },
  "language_info": {
   "codemirror_mode": {
    "name": "ipython",
    "version": 3
   },
   "file_extension": ".py",
   "mimetype": "text/x-python",
   "name": "python",
   "nbconvert_exporter": "python",
   "pygments_lexer": "ipython3",
   "version": "3.6.8"
  },
  "orig_nbformat": 4
 },
 "nbformat": 4,
 "nbformat_minor": 2
}
