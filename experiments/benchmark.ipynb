{
 "cells": [
  {
   "cell_type": "code",
   "execution_count": 2,
   "metadata": {},
   "outputs": [],
   "source": [
    "import pandas as pd \n",
    "import matplotlib.pyplot as plt\n",
    "import numpy as np \n",
    "import os "
   ]
  },
  {
   "cell_type": "code",
   "execution_count": 12,
   "metadata": {},
   "outputs": [
    {
     "data": {
      "text/plain": [
       "(55.256919050451486, 0.03670094469750764)"
      ]
     },
     "execution_count": 12,
     "metadata": {},
     "output_type": "execute_result"
    }
   ],
   "source": [
    "path = \"checkpoint/\"\n",
    "PSNRS = []\n",
    "SSIMS = [] \n",
    "for image_full_name in os.listdir(path):\n",
    "    image_name = image_full_name.split(\"_\")[0]\n",
    "    image_df = pd.read_csv(os.path.join(path, image_full_name)+\"/result.csv\")\n",
    "    PSNRS.append(image_df.iloc[-1,3])\n",
    "    SSIMS.append(image_df.iloc[-1,4])\n",
    "    \n",
    "np.mean(PSNRS), np.mean(SSIMS)"
   ]
  },
  {
   "cell_type": "code",
   "execution_count": null,
   "metadata": {},
   "outputs": [],
   "source": []
  }
 ],
 "metadata": {
  "interpreter": {
   "hash": "ffbb8a031d33123fcc364a3d5979efaa74de66c6ea009d6049a5611c4728e52d"
  },
  "kernelspec": {
   "display_name": "Python 3.6.8 64-bit ('torch': conda)",
   "language": "python",
   "name": "python3"
  },
  "language_info": {
   "codemirror_mode": {
    "name": "ipython",
    "version": 3
   },
   "file_extension": ".py",
   "mimetype": "text/x-python",
   "name": "python",
   "nbconvert_exporter": "python",
   "pygments_lexer": "ipython3",
   "version": "3.6.8"
  },
  "orig_nbformat": 4
 },
 "nbformat": 4,
 "nbformat_minor": 2
}
